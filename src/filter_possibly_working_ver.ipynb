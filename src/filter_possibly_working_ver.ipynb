{
 "cells": [
  {
   "cell_type": "code",
   "execution_count": 61,
   "metadata": {},
   "outputs": [],
   "source": [
    "import numpy as np\n",
    "import librosa\n",
    "import scipy\n",
    "import matplotlib.pyplot as plt"
   ]
  },
  {
   "cell_type": "code",
   "execution_count": 60,
   "metadata": {},
   "outputs": [],
   "source": [
    "# Ploting chromagram\n",
    "def chromagram(y, sr, title):\n",
    "    # Chord Analysis (Chromagram)\n",
    "    chroma = librosa.feature.chroma_stft(y=y, sr=sr)\n",
    "    plt.figure(figsize=(10, 4))\n",
    "    librosa.display.specshow(chroma, y_axis='chroma', x_axis='time', sr=sr)\n",
    "    plt.colorbar(label='Energy')\n",
    "    plt.title(title)\n",
    "    plt.tight_layout()\n",
    "    # plt.show()\n",
    "    return chroma"
   ]
  },
  {
   "cell_type": "code",
   "execution_count": 64,
   "metadata": {},
   "outputs": [],
   "source": [
    "def melody_level_score(path, offset=0):\n",
    "    melody_level = 0\n",
    "    y, sr = librosa.load(path)\n",
    "    length = librosa.get_duration(y = y, sr = sr)\n",
    "    if length > 30:\n",
    "        y, sr = librosa.load(path, duration = 10, offset = offset)\n",
    "    chroma = librosa.feature.chroma_stft(y=y, sr=sr)\n",
    "    std = np.std(chroma, axis = 0)\n",
    "    ###### first part, count number with large standard deviation\n",
    "    compare_val = len(std[std > 0.25]) / len(std)\n",
    "    # print(\"count comparison, \", compare_val)\n",
    "    if (compare_val >= 0.85):\n",
    "        melody_level += 3\n",
    "    elif compare_val >=0.7:\n",
    "        melody_level += 2\n",
    "    elif compare_val >= 0.3:\n",
    "        melody_level += 1\n",
    "    else:\n",
    "        melody_level += 0\n",
    "    # print(each_pitch_tuned)\n",
    "    ######### pitch tuning starts ##########################\n",
    "    # assume male / female voice\n",
    "    pitches, magnitudes = librosa.core.piptrack(y=y, sr=sr, fmin=100, fmax=500)\n",
    "    # get indexes of the maximum value in each time slice        \n",
    "    max_indexes = np.argmax(magnitudes, axis=0)\n",
    "    # get the pitches of the max indexes per time slice and compare it to the frequency table\n",
    "    pitches = pitches[max_indexes, range(magnitudes.shape[1])]        \n",
    "    # or use the built in function to estimate the tuning of whole series\n",
    "    pitches = librosa.pitch_tuning(pitches)\n",
    "    if abs(pitches) <= 0.10:\n",
    "        melody_level += 3\n",
    "    elif abs(pitches) <= 0.20:\n",
    "        melody_level += 2\n",
    "    elif abs(pitches) <= 0.30:\n",
    "        melody_level += 1\n",
    "    ############### pitch tuning part ends ########################\n",
    "    for i in range(len(np.array(chroma))):\n",
    "        for j in range(len(chroma[i])):\n",
    "            if chroma[i][j] <= 0.35:\n",
    "                chroma[i][j] = 0\n",
    "            else:\n",
    "                chroma[i][j] = 1\n",
    "    # print(chroma.shape)\n",
    "    sumds = np.sum(chroma, axis = 0)\n",
    "    count = sumds[sumds > (len(chroma) * 0.1)]\n",
    "    #### score count #######\n",
    "    # print(\"Percentage: \", (count / (len(chroma) * len(chroma[0]) - 0.08333)) / 0.08333)\n",
    "    if len(count) < (len(chroma) * len(chroma[0]) * 0.09):\n",
    "        melody_level += 3\n",
    "    elif len(count) < (len(chroma) * len(chroma[0]) * 0.12):\n",
    "        melody_level += 2\n",
    "    elif len(count) < (len(chroma) * len(chroma[0]) * 0.15):\n",
    "        melody_level += 1\n",
    "\n",
    "    # print(melody_level)\n",
    "    # if melody_level >= 7:\n",
    "    #     return 1\n",
    "    # else:\n",
    "    #     return 0\n",
    "    return melody_level\n",
    "    # print(pitches)"
   ]
  },
  {
   "cell_type": "code",
   "execution_count": 84,
   "metadata": {},
   "outputs": [],
   "source": [
    "def checking_audio_melody(path):\n",
    "    y, sr = librosa.load(path)\n",
    "    duration = librosa.get_duration(y = y, sr = sr)\n",
    "    if duration >= 30:\n",
    "        list = []\n",
    "        for i in range(int(duration // 10)):\n",
    "            list.append(melody_level_score(path, offset = i * 10))\n",
    "        # print(np.sum(list).mean() / (9 * len(list)))\n",
    "        if ((np.sum(list).mean() / (9 * len(list))) >= 0.7):\n",
    "            return True, np.sum(list).mean(), 9 * len(list)\n",
    "        else:\n",
    "            return False, np.sum(list).mean(), 9 * len(list)\n",
    "        # print(\"sum: \", np.sum(list).mean(), \" total: \", 9 * len(list))\n",
    "    else:\n",
    "        result = melody_level_score(path)\n",
    "        if result < 7:\n",
    "            return False, result, 9\n",
    "        return True, result, 9\n",
    "        # print(result, \"total: 9\")"
   ]
  },
  {
   "cell_type": "code",
   "execution_count": 85,
   "metadata": {},
   "outputs": [
    {
     "name": "stdout",
     "output_type": "stream",
     "text": [
      "v : 35.0 out of 90 False\n",
      "v : 162.0 out of 198 True\n",
      "\\5703-47212-0000.ogg : 4 out of 9 False\n",
      "\\3436-172162-0000.ogg : 5 out of 9 False\n",
      "\\198-209-0000.ogg : 5 out of 9 False\n",
      "\\Karissa_Hobbs_-_Let's_Go_Fishin'.ogg : 112.0 out of 117 True\n",
      "\\Hungarian_Dance_number_5_-_Allegro_in_F_sharp_minor_(string_orchestra).ogg : 34.0 out of 36 True\n",
      "\\admiralbob77_-_Choice_-_Drum-bass.ogg : 7 out of 9 True\n",
      "\\456440__inspectorj__bird-whistling-robin-single-13.ogg : 6 out of 9 False\n",
      "\\Hungarian_Dance_number_5_-_Allegro_in_F_sharp_minor_(string_orchestra).ogg : 34.0 out of 36 True\n"
     ]
    },
    {
     "name": "stderr",
     "output_type": "stream",
     "text": [
      "C:\\Users\\cindy\\AppData\\Local\\Temp\\ipykernel_36544\\1991546671.py:29: UserWarning: Trying to estimate tuning from empty frequency set.\n",
      "  pitches = librosa.pitch_tuning(pitches)\n"
     ]
    },
    {
     "name": "stdout",
     "output_type": "stream",
     "text": [
      "\\glacier-bay-humpback.ogg : 26.0 out of 54 False\n",
      "\\Kevin_MacLeod_-_P_I_Tchaikovsky_Dance_of_the_Sugar_Plum_Fairy.ogg : 99.0 out of 99 True\n",
      "\\442789__lena-orsa__happy-music-pistachio-ice-cream-ragtime.ogg : 60.0 out of 63 True\n",
      "\\147793__setuniman__sweet-waltz-0i-22mi.ogg : 36.0 out of 36 True\n",
      "\\sorohanro_-_solo-trumpet-06.ogg : 7 out of 9 True\n",
      "\\Kevin_MacLeod_-_Vibe_Ace.ogg : 50.0 out of 54 True\n",
      "[False, True, False, False, False, True, True, True, False, True, False, True, True, True, True, True]\n"
     ]
    }
   ],
   "source": [
    "# a list of examples, including one recording audio, one downloaded song, and librosa example files\n",
    "# './Noise.wav', librosa.ex('libri1'), librosa.ex('libri2'), librosa.ex('libri3'), librosa.ex('robin'),librosa.ex('humpback') are NOT music\n",
    "examples = ['./Noise.wav', './Pull Me Up.wav', librosa.ex('libri1'), librosa.ex('libri2'), librosa.ex('libri3'), librosa.ex('fishin'), \n",
    "    librosa.ex('brahms'), librosa.ex('choice'), librosa.ex('robin'), librosa.ex('brahms'), librosa.ex('humpback'), librosa.ex('nutcracker'), \n",
    "    librosa.ex('pistachio'), librosa.ex('sweetwaltz'), librosa.ex('trumpet'), librosa.ex('vibeace')]\n",
    "melody_result = []\n",
    "for ex in examples:\n",
    "    melody, score, total_score = checking_audio_melody(ex)\n",
    "    melody_result.append(melody)\n",
    "    print(ex[ex.rfind('\\\\'):], \":\", score, \"out of\", total_score, melody)\n",
    "print(melody_result)"
   ]
  },
  {
   "cell_type": "code",
   "execution_count": null,
   "metadata": {},
   "outputs": [],
   "source": [
    "# examples = ['./New Recording 7.wav', './Pull Me Up.wav', librosa.ex('libri1'), librosa.ex('libri2'), librosa.ex('libri3'), librosa.ex('fishin'), \n",
    "#     librosa.ex('brahms'), librosa.ex('choice'), librosa.ex('robin'), librosa.ex('brahms'), librosa.ex('humpback'), librosa.ex('nutcracker'), \n",
    "#     librosa.ex('pistachio'), librosa.ex('sweetwaltz'), librosa.ex('trumpet'), librosa.ex('vibeace')]\n",
    "# for ex in examples:\n",
    "#     y, sr = librosa.load(ex)\n",
    "#     chroma = librosa.feature.chroma_stft(y = y, sr = sr)\n",
    "    "
   ]
  },
  {
   "cell_type": "code",
   "execution_count": 10,
   "metadata": {},
   "outputs": [],
   "source": [
    "# not usable right now\n",
    "def main_check(path):\n",
    "    # check duration, should be 1:30 - 5:30\n",
    "    y, sr = librosa.load(path)\n",
    "    duration = librosa.get_duration(y = y, sr = sr)\n",
    "    if duration < 90 or duration > 330:\n",
    "        return False\n",
    "    # stereo check, posiibly not working\n",
    "    # if (y.shape[0] == 1 or y.shape[0].all() == y.shape[1].all()):\n",
    "    #     return False\n",
    "    # music check\n",
    "    count = 0\n",
    "    if checking_audio_melody(path):\n",
    "        count += 1\n",
    "    \n",
    "    "
   ]
  }
 ],
 "metadata": {
  "kernelspec": {
   "display_name": "music_filter",
   "language": "python",
   "name": "python3"
  },
  "language_info": {
   "codemirror_mode": {
    "name": "ipython",
    "version": 3
   },
   "file_extension": ".py",
   "mimetype": "text/x-python",
   "name": "python",
   "nbconvert_exporter": "python",
   "pygments_lexer": "ipython3",
   "version": "3.10.12"
  },
  "orig_nbformat": 4
 },
 "nbformat": 4,
 "nbformat_minor": 2
}
